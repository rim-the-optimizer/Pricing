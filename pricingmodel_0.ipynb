{
 "cells": [
  {
   "cell_type": "markdown",
   "id": "81376818-7e34-4dd2-b890-1114745019d0",
   "metadata": {},
   "source": [
    "### In dem Modell von Le et. al. (2021) gelten folgende Annahmen:\n",
    "Ein Auftrag besteht aus einer Abholung am Abholpunkt und der Zustellung an einem Zustellpunkt. Es gibt dazu kein zentrales Depot und die Aufträge können unabhängig voneinander betrachtet werden oder miteinander kombiniert werden. Zu den Aufträgen sind alle benötigten Informationen bekannt, darin eingeschlossen die geografischen Daten und die Zeitfenster für die Abholung und die Zustellung jeder Sendung. Die geografischen Daten des Startpunktes und des Zielpunktes sowie die Einsatzbereitschaft eines jeden OD sind ebenfalls bekannt. Die Größe und das Gewicht der Sendungen werden auf eine Einheit normiert und es erfolgt unter den Paketen keine Unterscheidung hinsichtlich der Eigenschaften. Bei einem erfolgreichen Matching erfolgt automatisch die Zustellung der Sendung, da vorausgesetzt wird, dass der Fahrer keine Möglichkeit zur Auftragsablehnung hat. \n",
    "Le et al. (2021) stellen vier verschiedene Preisfindungs-Schemata für das Modell vor, um unterschiedliche Gewinnfunktionen zu vergleichen: Flat price and flat compensation (FPFC), individual price and individual compensation (IPIC), flat price and individual compensation (FPIC), individual price and individual compensation (IPIC). Kompensationen und Vergütungen können entweder individuell berechnet werden oder für alle Aufträge und Routen gleich sein. In der Sensitivitätsanalyse werden Effekte auf die Anzahl der Matches und die Höhe des Gewinnes aus den gewählten Schemata miteinander verglichen. \n",
    "Im Folgenden werden die allgemeinen Mengen, Parameter und Variablenbezeichnungen aus Le et al. (2021) beschrieben. Die Aufträge   $A=\\{1,2,…,n\\}$, mit   $n=$ Anzahl der Aufträge, haben jeweils einen Abholknoten $i ∈A$ und einen Zustellknoten $j∈A'$, mit $A'=\\{n+1,n+2,…,2n\\}$.  Ein OD $h∈H$, mit $m=$ Anzahl der einsatzbaren ODs, hat seinen Startknoten in $τ_h=2n+h$ und seinen Zielknoten in $τ_h'=2n+m+h$. Die Gesamtmenge der Abholknoten, Zustellknoten, Startknoten und Zielknoten ergibt sich mit $V=A∪A'∪\\{τ_1,…,τ_m \\}∪\\{τ_1',..,τ_m' \\}$.\n",
    "Ausgehend von einem Zahlenbeispiel von zwei Aufträgen, $n=2$,  und 2 Fahrenden, $m=2$, ergeben sich für $V$ in diesem Kontext folgende Teilmengen: Die Menge der Aufträge ist $A={1,2}$ und die Menge der Zustellknoten ist $A'={3,4}$. Da zwei Fahrende zur Verfügung stehen, $H={1,2}$, ergeben sich daraus jeweils zwei Startknoten und zwei Zielknoten: $τ_1=2*n+h=2*2+1=5$ und $τ_2=2*2+2=6$, sowie $τ_1'=2*n+m+h=2*2+2+1=7$ und $τ_2'=2*2+2+2=8$. Somit setzt sich $V$ wie folgt zusammen: Menge der Abholknoten + Menge der Zustellknoten + Menge der Starknoten + Menge der Zielknoten = ${A∪A'∪τ_1∪τ_2∪τ_1'∪τ_2' }={1,2,3,4,5,6,7,8}$. Dieses Beispiel wird in Abbildung 1 illustriert.\n",
    "\n",
    "![Abbildung 1](https://github.com/rim-the-optimizer/Pricing/blob/Pics/Knoten.png)\n",
    " \n"
   ]
  },
  {
   "cell_type": "markdown",
   "id": "7c18dfdb-1173-405d-8683-f284836d04cc",
   "metadata": {},
   "source": [
    "\n"
   ]
  },
  {
   "cell_type": "code",
   "execution_count": null,
   "id": "412f28d4-9f03-4e32-8897-af9835cf81d0",
   "metadata": {},
   "outputs": [],
   "source": []
  },
  {
   "cell_type": "code",
   "execution_count": null,
   "id": "31d6b616-bb41-4dfb-8110-35150aae5704",
   "metadata": {},
   "outputs": [],
   "source": []
  }
 ],
 "metadata": {
  "kernelspec": {
   "display_name": "Python 3 (ipykernel)",
   "language": "python",
   "name": "python3"
  },
  "language_info": {
   "codemirror_mode": {
    "name": "ipython",
    "version": 3
   },
   "file_extension": ".py",
   "mimetype": "text/x-python",
   "name": "python",
   "nbconvert_exporter": "python",
   "pygments_lexer": "ipython3",
   "version": "3.13.2"
  }
 },
 "nbformat": 4,
 "nbformat_minor": 5
}
