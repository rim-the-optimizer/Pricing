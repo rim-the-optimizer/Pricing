{
 "cells": [
  {
   "cell_type": "markdown",
   "id": "81376818-7e34-4dd2-b890-1114745019d0",
   "metadata": {},
   "source": [
    "### Annahmen aus dem Modell:\n",
    "Ein Auftrag besteht aus einer Abholung am Abholpunkt und der Zustellung an einem Zustellpunkt. Es gibt dazu kein zentrales Depot und die Aufträge können unabhängig voneinander betrachtet werden oder miteinander kombiniert werden. Zu den Aufträgen sind alle benötigten Informationen bekannt, darin eingeschlossen die geografischen Daten und die Zeitfenster für die Abholung und die Zustellung jeder Sendung. Die geografischen Daten des Startpunktes und des Zielpunktes sowie die Einsatzbereitschaft eines jeden OD sind ebenfalls bekannt. Die Größe und das Gewicht der Sendungen werden auf eine Einheit normiert und es erfolgt unter den Paketen keine Unterscheidung hinsichtlich der Eigenschaften. Bei einem erfolgreichen Matching erfolgt automatisch die Zustellung der Sendung, da vorausgesetzt wird, dass der Fahrer keine Möglichkeit zur Auftragsablehnung hat. \n",
    "Le et al. (2021) stellen vier verschiedene Preisfindungs-Schemata für das Modell vor, um unterschiedliche Gewinnfunktionen zu vergleichen: Flat price and flat compensation (FPFC), individual price and individual compensation (IPIC), flat price and individual compensation (FPIC), individual price and individual compensation (IPIC). Kompensationen und Vergütungen können entweder individuell berechnet werden oder für alle Aufträge und Routen gleich sein. In der Sensitivitätsanalyse werden Effekte auf die Anzahl der Matches und die Höhe des Gewinnes aus den gewählten Schemata miteinander verglichen. \n",
    "Im Folgenden werden die allgemeinen Mengen, Parameter und Variablenbezeichnungen aus Le et al. (2021) beschrieben. Die Aufträge   $A=\\{1,2,…,n\\}$, mit   $n=$ Anzahl der Aufträge, haben jeweils einen Abholknoten $i ∈A$ und einen Zustellknoten $j∈A'$, mit $A'=\\{n+1,n+2,…,2n\\}$.  Ein OD $h∈H$, mit $m=$ Anzahl der einsatzbaren ODs, hat seinen Startknoten in $τ_h=2n+h$ und seinen Zielknoten in $τ_h'=2n+m+h$. Die Gesamtmenge der Abholknoten, Zustellknoten, Startknoten und Zielknoten ergibt sich mit $V=A∪A'∪\\{τ_1,…,τ_m \\}∪\\{τ_1',..,τ_m' \\}$.\n",
    "Ausgehend von einem Zahlenbeispiel von zwei Aufträgen, $n=2$,  und 2 Fahrenden, $m=2$, ergeben sich für $V$ in diesem Kontext folgende Teilmengen: Die Menge der Aufträge ist $A={1,2}$ und die Menge der Zustellknoten ist $A'={3,4}$. Da zwei Fahrende zur Verfügung stehen, $H={1,2}$, ergeben sich daraus jeweils zwei Startknoten und zwei Zielknoten: $τ_1=2*n+h=2*2+1=5$ und $τ_2=2*2+2=6$, sowie $τ_1'=2*n+m+h=2*2+2+1=7$ und $τ_2'=2*2+2+2=8$. Somit setzt sich $V$ wie folgt zusammen: Menge der Abholknoten + Menge der Zustellknoten + Menge der Starknoten + Menge der Zielknoten = ${A∪A'∪τ_1∪τ_2∪τ_1'∪τ_2' }={1,2,3,4,5,6,7,8}$. Dieses Beispiel wird in Abbildung 1 illustriert.\n",
    "\n",
    "  \n",
    "\n",
    "![Abbildung 1](https://github.com/rim-the-optimizer/Pricing/blob/main/Pics/Knoten%20.png?raw=true)\n",
    "\n",
    "###### *Abbildung 1: Zahlenbeispiel mit 8 Knoten, 2 Fahrern und 2 Aufträgen in Berlin (Eigene Darstellung): Hexagon in gelb = Startknoten eines Fahrers; Diamant in braun = Zielknoten eines Fahrers; Kreis in orange = Abholknoten eines Auftrages; Kreis in rot = Zustellknoten eines Auftrages*\n",
    "\n",
    "\n",
    "Dabei stellt $E= V*V$ die Menge aller möglicher Kanten in dem Graphen $G(V,E)$ dar. $(i,j), i→j ∈ G(V,E)$ bezeichnet eine Kante aus dem Graphen $G$. \n",
    "\n",
    "Ein Auftraggeber hat eine gegebene maximale Zahlungsbereitschaft von $WTP_i$ je Auftrag und ein OD erwartet eine gegebene Mindestbezahlung von $ETP_h$ je Kilometer. Über $R^h$ wird die Kapazität des Fahrenden h angegeben. Die Distanz $d_ij$ und die Fahrtzeit $t_ij$ gelten für die OD je Kante $i→j$ und die Distanz $d_i$ gilt für den Auftraggeber je Auftrag $i$. An jedem Abhol- und Zustellknoten wird für die Auftragserfüllung eine Servicezeit $s_i$ und eine Ladungsmenge $l_i$ benötigt. Bei Abholknoten ist die Ladungsmenge positiv, bei Zustellknoten negativ, da hier die Ladung abgegeben wird. Die Zeitfenster eines jeden Abhol- und Zustellknotens werden durch $a_i$, dem frühestmöglichen Zeitpunkt, und $b_i$, dem spätestmöglichen Zeitpunkt, begrenzt. $M$ dient als große positive Zahl für die Big-M Methode um das Modell zu linearisieren. $c_ij^h$ ist eine der sechs Entscheidungsvariablen und steht für die Kompensationsrate je km für den OD h auf der Kante $(i,j)$. Dabei wird $c_ij^h$ auch für Kanten von dem jeweiligen Startknoten zum Abholknoten einen Wert $≥0$ annehmen, um dem Fahrenden einen Teil des Umweges zu vergüten. Ein Auftrag $i$ hat den Preis $p_ij^h$, den der Auftraggeber an die Plattform bezahlen soll. Der Preis wird durch die $WTP_i$ von oben begrenzt und bezieht sich lediglich auf Distanzen von einem Abholknoten zu seinem Zustellknoten. Umwege der OD, also der Weg von seinem Startknoten $τ_h$ zu einem Abholort und der Weg von einem Zustellort zu seinem Zielknoten  $τ_h'$, werden dem Kunden nicht berechnet. Die Binärvariable $x_ij^h$ erhält den Wert $1$, wenn die Kante $(i,j)$ dem OD $h$ zugeordnet wird, $0$, wenn nicht. Die zweite Binärvariable $z_i$ wird gleich $0$ gesetzt, sobald der Auftrag $i$ verplant wird. Wenn Auftrag $i$ keinem OD zugeordnet wird, so ist $z_i=1$. Die Startzeit $S_i^h$ für den OD $h$ in Knoten $i$ ist eine nicht-negative ganzzahlige Variable. Die ebenfalls nicht-negative ganzzahlige Variable $L_i^h$ stellt die aufsummierte Ladungsmenge eines OD nach dem Besuch von Knoten $i$ dar und unterliegt der Kapazitätsbegrenzung $R^h$ des OD.\n",
    "Das Modell wird in der linearen Version und dem IPIC-Schema dargestellt.\n",
    "\n",
    "\n"
   ]
  },
  {
   "cell_type": "markdown",
   "id": "7c18dfdb-1173-405d-8683-f284836d04cc",
   "metadata": {},
   "source": [
    "### Das Modell\n",
    "$$\n",
    "\\begin{align*}\n",
    "    Max\\ \\ \\ \\ \\  \\underset{(i,j)\\in E}{\\Sigma} \\underset{h\\in H}{\\Sigma} \\ (p_{ij}^h d_{i}-c_{ij}^h d_{ij} )  (39)\\\\\n",
    "\\end{align*}\n",
    "$$\n",
    "s.t.\n",
    "\n",
    "\n",
    "p_i≤WTP_i \\/d_i+(1-x_ij^h )M\t\t∀ h∈H,∀ i∈A,∀ j∈ A^'\t\t\t(28)\n",
    "c_ij≥ETP_h x_ij^h\t\t\t\t           ∀i∈A,∀j∈A^',∀h∈H\t\t\t(29)\n",
    "p_i≥c_ij  \t\t\t\t\t\t\t\t\t\t\t(4)\n",
    "∑_(h∈H)▒∑_(j∈  A^' )▒x_ij^h +z_i=1   \t\t\t∀ i∈A\t\t\t\t\t(5)\n",
    "∑_(j∈V)▒x_ij^h -∑_(j∈V)▒x_(j,n+i)^h =0\t\t\t∀ h∈H,∀ i∈A\t\t\t\t(6)\n",
    "∑_(j∈A∪τ_h^')▒x_(τ_h,j)^h =1 \t\t\t\t∀ h∈H\t\t\t\t\t(7)\n",
    "∑_(i∈A^'∪τ_h)▒x_(i,τ_h^')^h =1 \t\t\t\t∀ h∈H\t\t\t\t\t(8)\n",
    "∑_(i∈V)▒x_ij^h -∑_(i∈V)▒x_ji^h =0 \t\t\t∀ j∈A^',∀ h∈H\t\t\t\t(9)\n",
    "S_i^h+s_i+t_ij≤S_j^h+(1-x_ij^h )M\t\t∀ (i,j)∈E,∀ h∈H\t\t\t\t(34)\n",
    "a_i≤S_i^h≤b_i\t\t\t\t\t∀ i∈V,∀ h∈H\t\t\t\t(11)\n",
    "S_i^h≤S_(n+i)^h\t\t\t\t\t∀ i∈V,∀ h∈H\t\t\t\t(12)\n",
    "L_i^h+l_j≤L_j^h+(1-x_ij^h )M\t\t\t∀ (i,j)∈E,∀ h∈H\t\t\t\t(35)\n",
    "L_i^h≤R^h\t\t\t\t\t∀ i∈V,∀ h∈H\t\t\t\t(14)\n",
    "L_(τ_h)^h=L_(τ_h^')^h=0\t\t\t\t\t∀ h∈H\t\t\t\t\t(15)\n",
    "p_i≤〖Mx〗_(i,j)^h\t\t\t\t\t\t\t\t\t\t\t(23)\n",
    "c_ij≤Mx_ij\t\t\t\t\t\t\t\t\t\t\t(24)\n",
    "p_i x_ij^h=p_i\t\t\t\t\t\t\t\t\t\t\t(25)\n",
    "c_ij x_ij^(h,)=c_ij\t\t\t\t\t\t\t\t\t\t\t(26)\n",
    "x_ij^h∈\\{0,1\\} \t\t\t\t\t∀ (i,j)∈E,∀ h∈H\t\t\t\t(16)\n",
    "z_i∈\\{0,1\\}\t\t\t\t\t∀ i∈A\t\t\t\t\t(17)\n",
    "S_i^h≥0 \t\t\t\t\t∀ i∈V,∀ h∈H\t\t\t\t(18)\n",
    "L_i^h,R^h≥0\t\t\t\t\t∀ i∈V,∀ h∈H\t\t\t\t(19)\n",
    "p_i,c_ij≥0\t\t\t\t\t\t\t\t\t\t\t(20)\n",
    "\n"
   ]
  },
  {
   "cell_type": "code",
   "execution_count": null,
   "id": "412f28d4-9f03-4e32-8897-af9835cf81d0",
   "metadata": {},
   "outputs": [],
   "source": []
  },
  {
   "cell_type": "code",
   "execution_count": null,
   "id": "31d6b616-bb41-4dfb-8110-35150aae5704",
   "metadata": {},
   "outputs": [],
   "source": []
  }
 ],
 "metadata": {
  "kernelspec": {
   "display_name": "Python 3 (ipykernel)",
   "language": "python",
   "name": "python3"
  },
  "language_info": {
   "codemirror_mode": {
    "name": "ipython",
    "version": 3
   },
   "file_extension": ".py",
   "mimetype": "text/x-python",
   "name": "python",
   "nbconvert_exporter": "python",
   "pygments_lexer": "ipython3",
   "version": "3.13.2"
  }
 },
 "nbformat": 4,
 "nbformat_minor": 5
}
